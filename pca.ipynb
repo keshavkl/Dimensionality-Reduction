{
 "cells": [
  {
   "cell_type": "code",
   "execution_count": null,
   "metadata": {},
   "outputs": [],
   "source": [
    "import pandas as pd\n",
    "from sklearn.decomposition import PCA\n",
    "from sklearn.preprocessing import OneHotEncoder, StandardScaler\n",
    "import matplotlib.pyplot as plt\n",
    "import seaborn as sns\n",
    "\n",
    "# Load dataset\n",
    "data = pd.read_csv('https://raw.githubusercontent.com/datasciencedojo/datasets/master/titanic.csv')\n",
    "\n",
    "# Preview data\n",
    "print(data.head())\n",
    "\n",
    "# Handle missing values by creating a copy to avoid chained assignment\n",
    "data.loc[:, 'Age'] = data['Age'].fillna(data['Age'].median())\n",
    "data.loc[:, 'Embarked'] = data['Embarked'].fillna(data['Embarked'].mode()[0])\n",
    "\n",
    "# Drop columns that may not be useful for this analysis\n",
    "data = data.drop(['Name', 'Ticket', 'Cabin'], axis=1)\n",
    "\n",
    "# Encoding categorical data\n",
    "encoder = OneHotEncoder()\n",
    "categorical_features = ['Pclass', 'Sex', 'Embarked']\n",
    "encoded_features = encoder.fit_transform(data[categorical_features]).toarray()\n",
    "encoded_feature_names = encoder.get_feature_names_out(categorical_features)\n",
    "\n",
    "# Create a DataFrame from encoded features and concatenate with the original dataset\n",
    "encoded_df = pd.DataFrame(encoded_features, columns=encoded_feature_names)\n",
    "data_encoded = pd.concat([data.drop(categorical_features, axis=1), encoded_df], axis=1)\n",
    "\n",
    "# Scale data before applying PCA\n",
    "scaler = StandardScaler()\n",
    "data_scaled = scaler.fit_transform(data_encoded.drop('Survived', axis=1))\n",
    "\n",
    "# Applying PCA\n",
    "pca = PCA(n_components=2)  # reduce to two dimensions for visualization\n",
    "principal_components = pca.fit_transform(data_scaled)\n",
    "principal_df = pd.DataFrame(principal_components, columns=['PC1', 'PC2'])\n",
    "\n",
    "# Combine with the target variable for plotting\n",
    "final_df = pd.concat([principal_df, data_encoded[['Survived']]], axis=1)\n",
    "\n",
    "# Plotting the results\n",
    "plt.figure(figsize=(10, 8))\n",
    "sns.scatterplot(data=final_df, x='PC1', y='PC2', hue='Survived', style='Survived', palette='viridis')\n",
    "plt.title('PCA Result on Titanic Dataset')\n",
    "plt.show()\n"
   ]
  },
  {
   "cell_type": "code",
   "execution_count": 4,
   "metadata": {},
   "outputs": [
    {
     "name": "stdout",
     "output_type": "stream",
     "text": [
      "Accuracy of the logistic regression model: 0.77\n"
     ]
    }
   ],
   "source": [
    "from sklearn.model_selection import train_test_split\n",
    "from sklearn.linear_model import LogisticRegression\n",
    "from sklearn.metrics import accuracy_score\n",
    "\n",
    "# Split the data into training and testing sets\n",
    "X_train, X_test, y_train, y_test = train_test_split(principal_components, data['Survived'], test_size=0.2, random_state=42)\n",
    "\n",
    "# Initialize and train the logistic regression model\n",
    "model = LogisticRegression()\n",
    "model.fit(X_train, y_train)\n",
    "\n",
    "# Predict on the test set\n",
    "y_pred = model.predict(X_test)\n",
    "\n",
    "# Calculate the accuracy\n",
    "accuracy = accuracy_score(y_test, y_pred)\n",
    "print(f\"Accuracy of the logistic regression model: {accuracy:.2f}\")\n"
   ]
  }
 ],
 "metadata": {
  "kernelspec": {
   "display_name": ".venv",
   "language": "python",
   "name": "python3"
  },
  "language_info": {
   "codemirror_mode": {
    "name": "ipython",
    "version": 3
   },
   "file_extension": ".py",
   "mimetype": "text/x-python",
   "name": "python",
   "nbconvert_exporter": "python",
   "pygments_lexer": "ipython3",
   "version": "3.12.3"
  }
 },
 "nbformat": 4,
 "nbformat_minor": 2
}
