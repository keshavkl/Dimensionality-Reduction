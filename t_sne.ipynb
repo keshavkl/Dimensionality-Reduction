{
 "cells": [
  {
   "cell_type": "markdown",
   "metadata": {},
   "source": [
    "# t-Distributed Stochastic Neighbor Embedding (t-SNE)\n",
    "t-SNE is a non-linear dimensionality reduction technique that is particularly well-suited for the visualization of high-dimensional datasets.\n",
    "\n",
    "Excellent for exploring data structures at multiple scales or for identifying clusters in data."
   ]
  },
  {
   "cell_type": "code",
   "execution_count": null,
   "metadata": {},
   "outputs": [],
   "source": [
    "from sklearn.manifold import TSNE\n",
    "\n",
    "import pandas as pd\n",
    "from sklearn.decomposition import PCA\n",
    "from sklearn.preprocessing import OneHotEncoder, StandardScaler\n",
    "import matplotlib.pyplot as plt\n",
    "import seaborn as sns\n",
    "\n",
    "# Load dataset\n",
    "data = pd.read_csv('https://raw.githubusercontent.com/datasciencedojo/datasets/master/titanic.csv')\n",
    "\n",
    "# Preview data\n",
    "print(data.head())\n",
    "\n",
    "# Handle missing values by creating a copy to avoid chained assignment\n",
    "data.loc[:, 'Age'] = data['Age'].fillna(data['Age'].median())\n",
    "data.loc[:, 'Embarked'] = data['Embarked'].fillna(data['Embarked'].mode()[0])\n",
    "\n",
    "# Drop columns that may not be useful for this analysis\n",
    "data = data.drop(['Name', 'Ticket', 'Cabin'], axis=1)\n",
    "\n",
    "# Encoding categorical data\n",
    "encoder = OneHotEncoder()\n",
    "categorical_features = ['Pclass', 'Sex', 'Embarked']\n",
    "encoded_features = encoder.fit_transform(data[categorical_features]).toarray()\n",
    "encoded_feature_names = encoder.get_feature_names_out(categorical_features)\n",
    "\n",
    "# Create a DataFrame from encoded features and concatenate with the original dataset\n",
    "encoded_df = pd.DataFrame(encoded_features, columns=encoded_feature_names)\n",
    "data_encoded = pd.concat([data.drop(categorical_features, axis=1), encoded_df], axis=1)\n",
    "\n",
    "# Scale data before applying t-SNE\n",
    "scaler = StandardScaler()\n",
    "data_scaled = scaler.fit_transform(data_encoded.drop('Survived', axis=1))\n",
    "\n",
    "tsne = TSNE(n_components=2, perplexity=30, n_iter=1000)\n",
    "tsne_results = tsne.fit_transform(data_scaled)\n",
    "\n",
    "plt.figure(figsize=(10, 8))\n",
    "sns.scatterplot(x=tsne_results[:, 0], y=tsne_results[:, 1], hue=data['Survived'], style=data['Survived'], palette='viridis')\n",
    "plt.title('t-SNE Visualization of Titanic Dataset')\n",
    "plt.show()"
   ]
  },
  {
   "cell_type": "markdown",
   "metadata": {},
   "source": [
    "**Perplexity:** This parameter can greatly affect your results. It relates to the number of nearest neighbors that t-SNE considers when mapping each point. Common values are between 5 and 50, and tweaking this can help if your data looks too bunched up or too dispersed.\n",
    "\n",
    "**Iterations:** Higher numbers of iterations allow t-SNE more time to optimize the arrangement of points. Insufficient iterations might lead to an 'unoptimized' plot, where the global structure might be okay, but local details could be misleading.\n",
    "\n",
    "**Scaling:** Always scale your data (typically with standard normalization) before applying t-SNE to ensure one feature’s variance doesn’t dominate others."
   ]
  }
 ],
 "metadata": {
  "kernelspec": {
   "display_name": ".venv",
   "language": "python",
   "name": "python3"
  },
  "language_info": {
   "codemirror_mode": {
    "name": "ipython",
    "version": 3
   },
   "file_extension": ".py",
   "mimetype": "text/x-python",
   "name": "python",
   "nbconvert_exporter": "python",
   "pygments_lexer": "ipython3",
   "version": "3.12.3"
  }
 },
 "nbformat": 4,
 "nbformat_minor": 2
}
